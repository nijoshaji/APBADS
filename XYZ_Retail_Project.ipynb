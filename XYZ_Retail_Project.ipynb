{
 "cells": [
  {
   "cell_type": "code",
   "execution_count": 3,
   "id": "b0de2535-0e67-4ec5-9e8c-6b3955bd1fab",
   "metadata": {},
   "outputs": [
    {
     "name": "stdin",
     "output_type": "stream",
     "text": [
      "Please enter the number of units sold for category A: 20\n",
      "Please enter the number of units sold for category B: 30\n"
     ]
    },
    {
     "name": "stdout",
     "output_type": "stream",
     "text": [
      "The total units sold is 50.\n",
      "The difference between the categories is -10.\n",
      "The ratio of units sold is 0.6666666666666666.\n"
     ]
    }
   ],
   "source": [
    "##Task 1: Sales Data Summary\n",
    "\n",
    "#taking user input for units sold in category A and B\n",
    "\n",
    "units_A = int(input(\"Please enter the number of units sold for category A:\")) \n",
    "units_B = int(input(\"Please enter the number of units sold for category B:\")) \n",
    "\n",
    "#Calculating total, difference and ratio of units sold\n",
    "\n",
    "sum= units_A + units_B\n",
    "diff = units_A - units_B\n",
    "ratio = units_A/units_B\n",
    "\n",
    "#printing output\n",
    "\n",
    "print(f\"The total units sold is {sum}.\")\n",
    "print(f\"The difference between the categories is {diff}.\")\n",
    "print(f\"The ratio of units sold is {ratio}.\")"
   ]
  },
  {
   "cell_type": "code",
   "execution_count": 5,
   "id": "506ea36b-e4be-434b-8c4f-dc1695ca4614",
   "metadata": {},
   "outputs": [
    {
     "name": "stdin",
     "output_type": "stream",
     "text": [
      "Please enter the name of the customer:  nijo\n",
      "Please enter the age of the customer:  30\n"
     ]
    },
    {
     "name": "stdout",
     "output_type": "stream",
     "text": [
      "Dear nijo, at 30, you’re eligible for our premium loyalty program.\n"
     ]
    }
   ],
   "source": [
    "## Task 2: Customer Age Data\n",
    "\n",
    "#taking user input for name and age. Converting variables into string\n",
    "name = str(input(\"Please enter the name of the customer: \"))\n",
    "age = str(input(\"Please enter the age of the customer: \"))\n",
    "\n",
    "#printing customized message\n",
    "print(f\"Dear {name}, at {age}, you’re eligible for our premium loyalty program.\")"
   ]
  },
  {
   "cell_type": "code",
   "execution_count": 30,
   "id": "f61d5e2d-ba99-4fe7-8a5c-5ccac1a76c3f",
   "metadata": {},
   "outputs": [
    {
     "name": "stdout",
     "output_type": "stream",
     "text": [
      "The highest product price is 66\n",
      "The lowest product price is 15\n",
      "The updated list of product price is : [20, 30, 40, 55, 66, 15, 19, 38, 100]\n"
     ]
    }
   ],
   "source": [
    "##Task 3: Product List Management\n",
    "\n",
    "#list of product prices\n",
    "product_prices = [20, 30, 40, 55, 66, 15, 19, 38]\n",
    "\n",
    "#finding max and min in the list\n",
    "highest = max(product_prices)\n",
    "lowest = min(product_prices)\n",
    "\n",
    "#updating list with premium product\n",
    "\n",
    "product_prices.append(100)\n",
    "\n",
    "#printing outputs\n",
    "print(f\"The highest product price is {highest}\")\n",
    "print(f\"The lowest product price is {lowest}\")\n",
    "\n",
    "print(f\"The updated list of product price is : {product_prices}\")\n",
    "\n"
   ]
  },
  {
   "cell_type": "code",
   "execution_count": 42,
   "id": "2465bbc0-5f78-4376-9604-bd8ede9028b1",
   "metadata": {},
   "outputs": [
    {
     "name": "stdout",
     "output_type": "stream",
     "text": [
      "The product name is: HP Laptop and SKU is: KUT123 .\n"
     ]
    }
   ],
   "source": [
    "##Task 4: Inventory Lookup\n",
    "\n",
    "#creating dictionary\n",
    "product = {'Product_name':'HP Laptop', 'SKU':'KUT123', 'price' : 35000 , 'category' : 'electronics' }\n",
    "\n",
    "#Print the product name and SKU\n",
    "print(f\"The product name is: {product['Product_name']} and SKU is: {product['SKU']}.\")"
   ]
  },
  {
   "cell_type": "code",
   "execution_count": 49,
   "id": "0c6500d1-a2b6-43f5-b7ac-e56a18425a8b",
   "metadata": {},
   "outputs": [
    {
     "name": "stdin",
     "output_type": "stream",
     "text": [
      "Please enter the current stock level:  89\n"
     ]
    },
    {
     "name": "stdout",
     "output_type": "stream",
     "text": [
      "The current stock is sufficient.\n"
     ]
    }
   ],
   "source": [
    "##Task 5: Stock Level Alert System\n",
    "\n",
    "#taking user input for current stock level\n",
    "current_level = int(input(\"Please enter the current stock level: \"))\n",
    "\n",
    "#setting threshold for re-orders\n",
    "threshold = 50\n",
    "\n",
    "#checking if stock needs to be re-ordered\n",
    "if current_level < threshold:\n",
    "    print(\"Please reorder stock.\")\n",
    "else :\n",
    "    print(\"The current stock is sufficient.\")"
   ]
  },
  {
   "cell_type": "code",
   "execution_count": 63,
   "id": "c9af1b3c-2310-4612-96a9-0b9fd79469aa",
   "metadata": {},
   "outputs": [
    {
     "name": "stdout",
     "output_type": "stream",
     "text": [
      "['LAPTOPS', 'MOBILES', 'CONSOLES']\n",
      "['LAPTOPS', 'MOBILES', 'CONSOLES']\n"
     ]
    }
   ],
   "source": [
    "##Task 6: Sales Report Formatting\n",
    "\n",
    "\n",
    "#function to convert all list elements to uppercase using for loop\n",
    "\n",
    "def uppercase_for(list):\n",
    "    \n",
    "    new_list = []\n",
    "    for product in list:\n",
    "        product_upper = product.upper()\n",
    "        new_list.append(product_upper)\n",
    "    return new_list\n",
    "\n",
    "#function to convert all list elements to uppercase using while loop\n",
    "\n",
    "def uppercase_while(list): \n",
    "    \n",
    "    counter = len(list)\n",
    "    i = 0\n",
    "    new_list2 = []\n",
    "    while counter > 0 :\n",
    "        product_upper = list[i].upper()\n",
    "        i += 1\n",
    "        counter -= 1\n",
    "        new_list2.append(product_upper)\n",
    "    \n",
    "    return new_list2\n",
    "\n",
    "#sample product list\n",
    "products_sold = ['laptops', 'mobiles', 'consoles']\n",
    "\n",
    "\n",
    "#printing outputs\n",
    "updatedlist1 = uppercase_for(products_sold)\n",
    "print(updatedlist1)\n",
    "\n",
    "updatedlist2 = uppercase_while(products_sold)\n",
    "print(updatedlist2)\n",
    "\n"
   ]
  },
  {
   "cell_type": "code",
   "execution_count": 71,
   "id": "d485febf-02a2-4a2f-80c8-759b17633d45",
   "metadata": {},
   "outputs": [
    {
     "name": "stdin",
     "output_type": "stream",
     "text": [
      "Please enter length of store section in metres:  4.6\n",
      "Please enter the breadth of store section in metres:  6.8\n"
     ]
    },
    {
     "name": "stdout",
     "output_type": "stream",
     "text": [
      "The area of the section is 31.28 sq metres.\n"
     ]
    }
   ],
   "source": [
    "##Task 7: Area Calculation for Store Layout\n",
    "\n",
    "#function to calculate area of store section\n",
    "def area_calc(l,b):\n",
    "\n",
    "    area = l*b\n",
    "    print(f\"The area of the section is {round(area,2)} sq metres.\")\n",
    "\n",
    "#taking user input for length and width of section\n",
    "length = float(input(\"Please enter length of store section in metres: \"))\n",
    "breadth = float(input(\"Please enter the width of store section in metres: \"))\n",
    "\n",
    "#calling function\n",
    "area_calc(length, breadth)\n",
    "\n",
    "\n",
    "\n"
   ]
  },
  {
   "cell_type": "code",
   "execution_count": 89,
   "id": "2264729b-192f-4d75-b4d1-3e5412f20418",
   "metadata": {},
   "outputs": [
    {
     "name": "stdout",
     "output_type": "stream",
     "text": [
      "The number of vowels in the feedback is 6.\n"
     ]
    }
   ],
   "source": [
    "##Task 8: Customer Feedback Analysis\n",
    "\n",
    "def vowel_counter(text):\n",
    "\n",
    "    count = 0   # set initial count\n",
    "    \n",
    "    vowel = set('aeiouAEIOU') #set of vowels in upper and lowercase\n",
    "    \n",
    "    #iterating through the feedback letter by letter\n",
    "    \n",
    "    for alphabet in text:\n",
    "        if alphabet in vowel:\n",
    "            count += 1\n",
    "    print(f\"The number of vowels in the feedback is {count}.\")\n",
    "\n",
    "#sample feedback\n",
    "feedback = 'The product was good'\n",
    "\n",
    "#calling function\n",
    "vowel_counter(feedback)\n",
    "\n"
   ]
  },
  {
   "cell_type": "code",
   "execution_count": 95,
   "id": "597b6512-542e-4e25-b56d-03ee6f54103d",
   "metadata": {},
   "outputs": [
    {
     "name": "stdout",
     "output_type": "stream",
     "text": [
      "List of product prices above 50 is [60, 70, 80]\n"
     ]
    }
   ],
   "source": [
    "##Task 9: Price Filtering Tool\n",
    "\n",
    "#sample price list\n",
    "product_price_list = [10,20,30,50,60,70,80]\n",
    "\n",
    "\n",
    "#list comprehension to filter out products priced below a certain threshold = 50\n",
    "\n",
    "new_list = [price for price in product_price_list if price > 50]\n",
    "\n",
    "print(f\"List of product prices above 50 is {new_list}\")\n"
   ]
  },
  {
   "cell_type": "code",
   "execution_count": 101,
   "id": "799d45f4-8815-4f0c-800d-41a9fe9b9286",
   "metadata": {},
   "outputs": [
    {
     "name": "stdout",
     "output_type": "stream",
     "text": [
      "The average sales result was good.\n"
     ]
    }
   ],
   "source": [
    "##Task 10: Sales Log File Management\n",
    "\n",
    "#create text file \n",
    "f = open(\"sales_log.txt\", \"w\")\n",
    "\n",
    "#write sales summary in text file\n",
    "f.write(\"The average sales result was good.\")\n",
    "f.close()\n",
    "\n",
    "#open the text file in read mode and print the content\n",
    "f = open(\"sales_log.txt\", \"r\")\n",
    "print(f.read())"
   ]
  },
  {
   "cell_type": "code",
   "execution_count": 119,
   "id": "1c524676-fcf9-4622-b6cb-daccad2a027e",
   "metadata": {},
   "outputs": [
    {
     "name": "stdout",
     "output_type": "stream",
     "text": [
      "The average sales in the last seven days is 30.71\n"
     ]
    }
   ],
   "source": [
    "##Task 11: Daily Sales Average\n",
    "\n",
    "#function to calculate average sales\n",
    "def average_sales(list):\n",
    "    sum = 0\n",
    "    for sale in list:\n",
    "        sum = sum + sale\n",
    "    avg = sum / len(list)\n",
    "    print(f\"The average sales in the last seven days is {round(avg,2)}\")\n",
    "\n",
    "#list of sales for last 7 days\n",
    "sales = [2, 4, 7, 6, 100, 16, 80]\n",
    "average_sales(sales)\n"
   ]
  },
  {
   "cell_type": "code",
   "execution_count": 139,
   "id": "9c118c6a-5e33-42f6-809c-0ee27f5c0b4e",
   "metadata": {},
   "outputs": [
    {
     "name": "stdout",
     "output_type": "stream",
     "text": [
      "The segmented list is\n",
      " [(40, 'Low spender'), (50, 'Low spender'), (75, 'Medium spender'), (105, 'High spender'), (160, 'High spender'), (49, 'Low spender'), (99, 'Medium spender')]\n"
     ]
    }
   ],
   "source": [
    "##Task 12: Customer Segmentation\n",
    "\n",
    "def customer_segmentation(list):\n",
    "#setting cutoff points for high,medium and low spenders\n",
    "    high_cutoff = 100\n",
    "    low_cutoff = 50\n",
    "\n",
    "    new_list = []   ## empty list to store categories\n",
    "    ## defining logical tests to categorize\n",
    "    for customer in list:\n",
    "        if customer > high_cutoff:\n",
    "            category = 'High spender'\n",
    "        elif customer > low_cutoff:\n",
    "            category = \"Medium spender\"\n",
    "        else :\n",
    "            category = \"Low spender\"\n",
    "\n",
    "        new_list.append((customer,category))\n",
    "    print(f\"The segmented list is\\n {new_list}\")\n",
    "\n",
    "##### sample list\n",
    "customers_spending = [40, 50,75, 105, 160, 49, 99]\n",
    "\n",
    "#calling function\n",
    "customer_segmentation(customers_spending)"
   ]
  },
  {
   "cell_type": "code",
   "execution_count": 145,
   "id": "4e33fefd-8af9-45f1-a71c-7261e7399b1c",
   "metadata": {},
   "outputs": [
    {
     "name": "stdout",
     "output_type": "stream",
     "text": [
      "The discounted prices are [15.0, 22.5, 30.0, 37.5, 45.0, 52.5]\n",
      "The discounted rates are\n",
      "[('laptop', 360.0), ('mobile', 80.0), ('USB', 25.0)]\n"
     ]
    }
   ],
   "source": [
    "##Task 13: Discount Calculation\n",
    "\n",
    "#original price list\n",
    "original_price = [20, 30, 40, 50, 60, 70]\n",
    "\n",
    "#discount figure\n",
    "discount = 25\n",
    "reduction = 1 - (discount/100) #calculating reduction factor \n",
    "\n",
    "#list comprehension to create list with discounted figures\n",
    "discounted_price = [price*reduction for price in original_price ]\n",
    "\n",
    "print(f\"The discounted prices are {discounted_price}\")\n",
    "\n",
    "\n",
    "### method 2\n",
    "\n",
    "#function to calculate discounted final price \n",
    "def discount_price(original_price,discount):\n",
    "    reduction = 1 -(discount/100)\n",
    "    new_price = original_price*reduction\n",
    "    return new_price\n",
    "\n",
    "\n",
    "#create a list of dictionaries with product info and discount applied\n",
    "product_list = [\n",
    "    {\"category\":\"laptop\",\"cost_price\":400, \"discount\":10},\n",
    "    {\"category\":\"mobile\",\"cost_price\":100, \"discount\":20},\n",
    "    {\"category\":\"USB\",\"cost_price\":50, \"discount\":50}]\n",
    "\n",
    "final_price = [] # empty list to store discounted values\n",
    "\n",
    "#iterate through list and pass original price and discount to the function\n",
    "for product in product_list:\n",
    "    final_price.append((product[\"category\"], discount_price(product[\"cost_price\"],product[\"discount\"])))\n",
    "print(f\"The discounted rates are\\n{final_price}\")"
   ]
  },
  {
   "cell_type": "code",
   "execution_count": 159,
   "id": "63bd262b-687a-4421-8d28-229f3c5e081d",
   "metadata": {},
   "outputs": [
    {
     "name": "stdout",
     "output_type": "stream",
     "text": [
      "negative\n"
     ]
    }
   ],
   "source": [
    "##Task 14: Customer Feedback Sentiment Analysis\n",
    "\n",
    "#sample message\n",
    "message = \"It is BaD\"\n",
    "\n",
    "#list of sentiment words\n",
    "positive_words = [\"good\", \"happy\", \"great\"]\n",
    "negative_words = [\"bad\", \"dissapointed\",\"poor\"]\n",
    "\n",
    "\n",
    "#loops to iterate through each list\n",
    "for word in positive_words:\n",
    "    if word in message.lower(): #check to see if message contains positive sentiment\n",
    "        print(\"Positive\")\n",
    "for word in negative_words:\n",
    "    if word in message.lower():\n",
    "        print(\"Negative\")"
   ]
  },
  {
   "cell_type": "code",
   "execution_count": 161,
   "id": "e73ec268-b50b-4c55-a18c-4ba5915f683f",
   "metadata": {},
   "outputs": [
    {
     "name": "stdout",
     "output_type": "stream",
     "text": [
      "[('Mark', 550.0), ('Luke', 1150.0), ('John', 900.0)]\n"
     ]
    }
   ],
   "source": [
    "##Task 15: Employee Salary Increment Calculator\n",
    "\n",
    "\n",
    "#defining function for increment calculator\n",
    "\n",
    "def increment(salary,rate):\n",
    "    \n",
    "    #rate for increment as per performance\n",
    "    rate_1 = 10 # for A performance\n",
    "    rate_2 = 15 # for B performance\n",
    "    rate_3 = 20 # for C performance\n",
    "\n",
    "    if rate == \"A\":\n",
    "        new_salary = salary + salary*(rate_1/100)\n",
    "    elif rate == \"B\":\n",
    "        new_salary = salary + salary*(rate_2/100)\n",
    "    elif rate == \"C\":\n",
    "        new_salary = salary + salary*(rate_3/100)\n",
    "        \n",
    "    return new_salary\n",
    "\n",
    "\n",
    "#sample employee details\n",
    "employee_details = [{\"name\": \"Mark\", \"salary\": 500,\"rate\": \"A\"},\n",
    "                    {\"name\": \"Luke\", \"salary\": 1000,\"rate\": \"B\"},\n",
    "                    {\"name\": \"John\", \"salary\": 750,\"rate\": \"C\"}]\n",
    "\n",
    "\n",
    "# create new list with updated salaries using list comprehension\n",
    "\n",
    "updated_employee_details = [(employee[\"name\"],increment(employee[\"salary\"],employee[\"rate\"])) for employee in employee_details]\n",
    "\n",
    "print(updated_employee_details)"
   ]
  },
  {
   "cell_type": "code",
   "execution_count": 253,
   "id": "416f7821-9ed8-465c-8329-b8e3b1cfe39b",
   "metadata": {},
   "outputs": [],
   "source": [
    "##Task 16: Monthly Sales Report Generator\n",
    "\n",
    "#sample monthly sales\n",
    "monthly_sales_data = [100, 200, 400, 300]\n",
    "\n",
    "# calculate sales statistics\n",
    "total = 0\n",
    "for sale in monthly_sales_data:\n",
    "    total += sale\n",
    "average_month = total/len(monthly_sales_data)\n",
    "\n",
    "\n",
    "#write the summary into text file\n",
    "with open (\"monthly_report.txt\",\"w\") as file:\n",
    "    file.write(f\"The total monthly sales is {total} and average monthly sales is {average_month}\")\n"
   ]
  },
  {
   "cell_type": "code",
   "execution_count": 247,
   "id": "1611d1c5-4f4d-4b92-9706-32a377fcc479",
   "metadata": {},
   "outputs": [
    {
     "name": "stdout",
     "output_type": "stream",
     "text": [
      "Reorder soap\n",
      "Reorder shampoo\n",
      "Reorder cream\n"
     ]
    }
   ],
   "source": [
    "##Task 17: Stock Replenishment Planning\n",
    "\n",
    "# function to check inventory level against a threshold\n",
    "def check_inventory(product,level):\n",
    "    #set threshold for product types\n",
    "    soap_t = 90        # threshold for soap\n",
    "    shampoo_t = 150\n",
    "    cream_t = 100\n",
    "\n",
    "    answer = \"\"\n",
    "    if product == \"soap\" and level < soap_t:\n",
    "        answer = \"Reorder soap\"\n",
    "    elif product == \"shampoo\" and level < shampoo_t :\n",
    "        answer = \"Reorder shampoo\"\n",
    "    elif product == \"cream\" and level < cream_t:\n",
    "        answer = \"Reorder cream\"\n",
    "    return answer\n",
    "   \n",
    "\n",
    "\n",
    "\n",
    "#sample inventory list\n",
    "inventory_list = [{\"name\":\"soap\",\"level\": 60},\n",
    "                  {\"name\":\"shampoo\",\"level\": 20},\n",
    "                  {\"name\":\"cream\",\"level\": 50}]\n",
    "\n",
    "\n",
    "for product in inventory_list:\n",
    "    print(check_inventory(product[\"name\"], product[\"level\"]))\n",
    "\n"
   ]
  },
  {
   "cell_type": "code",
   "execution_count": 243,
   "id": "05d3265e-f055-433b-ba01-f4cee2d10cac",
   "metadata": {},
   "outputs": [
    {
     "name": "stdout",
     "output_type": "stream",
     "text": [
      " John Doe\n",
      " Luke Walters\n",
      " Chunky Pandey\n",
      " Gabriella Garcia Marquez\n",
      "['John Doe', 'Luke  Walters', 'Chunky    Pandey', 'Gabriella Garcia Marquez']\n"
     ]
    }
   ],
   "source": [
    "##Task 18: Data Cleaning Utility\n",
    "\n",
    "# function to clean name and standardize capitals. Pass only one name from list of names into the function\n",
    "\n",
    "def name_cleaner(name):\n",
    "\n",
    "    split_name = name.split() # split the name into a list of names\n",
    "    join_name = \"\"            # set empty string to store the cleared name\n",
    "    for i in split_name:      # iterate through the list of split name\n",
    "        y = i.capitalize()    # capitalise the first letter and rest of the letters as lowercase\n",
    "        join_name = join_name + \" \" + y   # join the individual words to form full name\n",
    "    print(join_name)\n",
    "\n",
    "\n",
    "\n",
    "\n",
    "#sample names\n",
    "names = [\"  john dOe\", \"luke  walTers\", \"chUNky    paNDey\", \"GABriella gARCIa marqUEZ\"]\n",
    "\n",
    "#iterate through the list of names\n",
    "for name in names: \n",
    "    name_cleaner(name) # pass each name into function for cleaning\n",
    "\n"
   ]
  },
  {
   "cell_type": "code",
   "execution_count": 241,
   "id": "d51b532e-7107-4d78-829d-0b8863658e49",
   "metadata": {},
   "outputs": [
    {
     "name": "stdout",
     "output_type": "stream",
     "text": [
      "The forecasted sale for next month is 467\n"
     ]
    }
   ],
   "source": [
    "##Task 19: Simple Sales Forecasting\n",
    "\n",
    "#sample monthly average sales for last 3 months\n",
    "monthly_sales = [300, 600, 500]\n",
    "\n",
    "sum = 0                      # set initial value as 0 for total\n",
    "for sale in monthly_sales:   #iterate through the list\n",
    "    sum += sale              # calculate the total\n",
    "    \n",
    "avg = sum/len(monthly_sales) # calculate the average for 3 months\n",
    "\n",
    "print(f\"The forecasted sale for next month is {round(avg)}\")"
   ]
  },
  {
   "cell_type": "code",
   "execution_count": 245,
   "id": "c150a42b-8a7c-4ac7-b92f-2fd528edf11a",
   "metadata": {},
   "outputs": [
    {
     "name": "stdout",
     "output_type": "stream",
     "text": [
      "[{'customer1': 1200.0}, {'customer2': 2400}, {'customer3': 400}]\n"
     ]
    }
   ],
   "source": [
    "##Task 20: Customer Loyalty Points Calculator\n",
    "\n",
    "#function to calculate loyalty points\n",
    "\n",
    "def loyalty_points(amount):\n",
    "\n",
    "    ### 3 tiers: total spending upto 500 gets 1p, upto 1000 gets 1.5p, above 1000 gets 2p\n",
    "\n",
    "    if amount < 500:\n",
    "        points = amount\n",
    "    elif amount <1000:\n",
    "        points = amount*1.5\n",
    "    else:\n",
    "        points = amount*2\n",
    "    return points\n",
    "\n",
    "\n",
    "# sample customer list\n",
    "customer_spendings = [{\"name\":\"customer1\",\"spending\":800},\n",
    "                      {\"name\":\"customer2\",\"spending\":1200},\n",
    "                      {\"name\":\"customer3\",\"spending\":400}]\n",
    "\n",
    "\n",
    "loyalty_points_list = [] #empty list to store values\n",
    "\n",
    "#iterating through each customer\n",
    "for customer in customer_spendings:\n",
    "    customer_loyalty = {customer[\"name\"]:loyalty_points(customer[\"spending\"])}\n",
    "    loyalty_points_list.append(customer_loyalty)\n",
    "\n",
    "print(loyalty_points_list)\n",
    "\n"
   ]
  },
  {
   "cell_type": "code",
   "execution_count": null,
   "id": "81ec5b80-6d5a-4591-b2e7-49a9ea644394",
   "metadata": {},
   "outputs": [],
   "source": []
  }
 ],
 "metadata": {
  "kernelspec": {
   "display_name": "Python 3 (ipykernel)",
   "language": "python",
   "name": "python3"
  },
  "language_info": {
   "codemirror_mode": {
    "name": "ipython",
    "version": 3
   },
   "file_extension": ".py",
   "mimetype": "text/x-python",
   "name": "python",
   "nbconvert_exporter": "python",
   "pygments_lexer": "ipython3",
   "version": "3.12.4"
  }
 },
 "nbformat": 4,
 "nbformat_minor": 5
}
